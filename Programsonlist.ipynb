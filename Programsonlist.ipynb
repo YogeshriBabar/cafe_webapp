{
  "nbformat": 4,
  "nbformat_minor": 0,
  "metadata": {
    "colab": {
      "provenance": [],
      "authorship_tag": "ABX9TyPsIZNF2IHMVW8ui6RYleK6",
      "include_colab_link": true
    },
    "kernelspec": {
      "name": "python3",
      "display_name": "Python 3"
    },
    "language_info": {
      "name": "python"
    }
  },
  "cells": [
    {
      "cell_type": "markdown",
      "metadata": {
        "id": "view-in-github",
        "colab_type": "text"
      },
      "source": [
        "<a href=\"https://colab.research.google.com/github/YogeshriBabar/cafe_webapp/blob/main/Programsonlist.ipynb\" target=\"_parent\"><img src=\"https://colab.research.google.com/assets/colab-badge.svg\" alt=\"Open In Colab\"/></a>"
      ]
    },
    {
      "cell_type": "code",
      "execution_count": null,
      "metadata": {
        "colab": {
          "base_uri": "https://localhost:8080/"
        },
        "id": "FCOHlztQs6gp",
        "outputId": "c9c2e76a-19ff-4848-a2ac-a6f5f3d20ca0"
      },
      "outputs": [
        {
          "output_type": "stream",
          "name": "stdout",
          "text": [
            "4\n",
            "2\n"
          ]
        }
      ],
      "source": [
        "list=[1,4,7,9,2] \n",
        "for num in list:\n",
        "  if num % 2==0:#even no checking\n",
        "    print(num)  \n",
        "  "
      ]
    },
    {
      "cell_type": "code",
      "source": [
        "#list megre\n",
        "l1=[6,8,9]\n",
        "l2=[1,2,3]\n",
        "for i in l2:\n",
        "  l1.append(i)\n",
        "print(\"merged list is here:\" +str(l1))\n"
      ],
      "metadata": {
        "colab": {
          "base_uri": "https://localhost:8080/"
        },
        "id": "0idbBJxutRY5",
        "outputId": "b36d8c81-2d45-4474-f960-912e600cb27c"
      },
      "execution_count": null,
      "outputs": [
        {
          "output_type": "stream",
          "name": "stdout",
          "text": [
            "merged list is here:[6, 8, 9, 1, 2, 3]\n"
          ]
        }
      ]
    },
    {
      "cell_type": "code",
      "source": [
        "#merge list using + operator\n",
        "l1=[1,0,3,2]\n",
        "l2=[11,22,44]\n",
        "l3=l1 + l2\n",
        "print(\"Megred List:\" +str(l3))"
      ],
      "metadata": {
        "id": "6s9JY8zluvls",
        "colab": {
          "base_uri": "https://localhost:8080/"
        },
        "outputId": "e3da7f08-47ab-4b88-f5eb-da77cfa6be40"
      },
      "execution_count": null,
      "outputs": [
        {
          "output_type": "stream",
          "name": "stdout",
          "text": [
            "Megred List:[1, 0, 3, 2, 11, 22, 44]\n"
          ]
        }
      ]
    },
    {
      "cell_type": "code",
      "source": [
        "#program for interchanging first element to last and last element to first \n",
        "list=[1,2,4,5,6,8]\n",
        "list[0],list[-1]=list[-1],list[0]\n",
        "print(list)\n"
      ],
      "metadata": {
        "colab": {
          "base_uri": "https://localhost:8080/"
        },
        "id": "u1Lhcs6pyCP-",
        "outputId": "c872a57a-25eb-41cf-e8d4-0c9e6d07b90b"
      },
      "execution_count": null,
      "outputs": [
        {
          "output_type": "stream",
          "name": "stdout",
          "text": [
            "[8, 2, 4, 5, 6, 1]\n"
          ]
        }
      ]
    },
    {
      "cell_type": "code",
      "source": [],
      "metadata": {
        "id": "gy3GSS8IzZLf"
      },
      "execution_count": null,
      "outputs": []
    }
  ]
}